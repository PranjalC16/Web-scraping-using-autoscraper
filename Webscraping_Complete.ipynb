{
 "cells": [
  {
   "cell_type": "markdown",
   "id": "d7c9844d",
   "metadata": {},
   "source": [
    "## Amazon E-commerce web scrapping using autoscraper"
   ]
  },
  {
   "cell_type": "markdown",
   "id": "11f204a3",
   "metadata": {},
   "source": [
    "#### 1. Installing the autoscraper library and importing it"
   ]
  },
  {
   "cell_type": "code",
   "execution_count": 1,
   "id": "e27ce255",
   "metadata": {},
   "outputs": [
    {
     "name": "stdout",
     "output_type": "stream",
     "text": [
      "Requirement already satisfied: autoscraper in c:\\users\\pranjal chakraborty\\anaconda3\\lib\\site-packages (1.1.12)\n",
      "Requirement already satisfied: requests in c:\\users\\pranjal chakraborty\\anaconda3\\lib\\site-packages (from autoscraper) (2.26.0)\n",
      "Requirement already satisfied: lxml in c:\\users\\pranjal chakraborty\\anaconda3\\lib\\site-packages (from autoscraper) (4.6.3)\n",
      "Requirement already satisfied: bs4 in c:\\users\\pranjal chakraborty\\anaconda3\\lib\\site-packages (from autoscraper) (0.0.1)\n",
      "Requirement already satisfied: beautifulsoup4 in c:\\users\\pranjal chakraborty\\anaconda3\\lib\\site-packages (from bs4->autoscraper) (4.10.0)\n",
      "Requirement already satisfied: soupsieve>1.2 in c:\\users\\pranjal chakraborty\\anaconda3\\lib\\site-packages (from beautifulsoup4->bs4->autoscraper) (2.2.1)\n",
      "Requirement already satisfied: urllib3<1.27,>=1.21.1 in c:\\users\\pranjal chakraborty\\anaconda3\\lib\\site-packages (from requests->autoscraper) (1.26.7)\n",
      "Requirement already satisfied: idna<4,>=2.5 in c:\\users\\pranjal chakraborty\\anaconda3\\lib\\site-packages (from requests->autoscraper) (3.2)\n",
      "Requirement already satisfied: charset-normalizer~=2.0.0 in c:\\users\\pranjal chakraborty\\anaconda3\\lib\\site-packages (from requests->autoscraper) (2.0.4)\n",
      "Requirement already satisfied: certifi>=2017.4.17 in c:\\users\\pranjal chakraborty\\anaconda3\\lib\\site-packages (from requests->autoscraper) (2021.10.8)\n",
      "Note: you may need to restart the kernel to use updated packages.\n"
     ]
    }
   ],
   "source": [
    "pip install autoscraper"
   ]
  },
  {
   "cell_type": "code",
   "execution_count": 1,
   "id": "c2322c9a",
   "metadata": {},
   "outputs": [],
   "source": [
    "import pandas as pd\n",
    "from autoscraper import AutoScraper"
   ]
  },
  {
   "cell_type": "markdown",
   "id": "495bea93",
   "metadata": {},
   "source": [
    "#### 2. Taking the object to be searched for , setting the url , and creating the wanted list"
   ]
  },
  {
   "cell_type": "code",
   "execution_count": 96,
   "id": "574ffebf",
   "metadata": {},
   "outputs": [
    {
     "name": "stdout",
     "output_type": "stream",
     "text": [
      "enter the item to be searched for:redmi\n"
     ]
    }
   ],
   "source": [
    "search=input(\"enter the item to be searched for:\")"
   ]
  },
  {
   "cell_type": "code",
   "execution_count": 97,
   "id": "6074bf30",
   "metadata": {},
   "outputs": [],
   "source": [
    "amazon_url=\"https://www.amazon.in/s?k={}&s=review-rank\".format(search)"
   ]
  },
  {
   "cell_type": "code",
   "execution_count": 98,
   "id": "833be5d1",
   "metadata": {},
   "outputs": [],
   "source": [
    "wanted_list=[\"Redmi Note 9 Pro (Interstellar Black, 4GB RAM, 64GB Storage)- Latest 8nm Snapdragon 720G & Alexa Hands-Free Capable\",\"15,499\",\" 127,207\"]"
   ]
  },
  {
   "cell_type": "markdown",
   "id": "82de985c",
   "metadata": {},
   "source": [
    "#### 3. Initiating the autoscraper object to build our scrapping model with the url and our wanted list"
   ]
  },
  {
   "cell_type": "code",
   "execution_count": 99,
   "id": "0c75799f",
   "metadata": {},
   "outputs": [],
   "source": [
    "scraper=AutoScraper()\n",
    "result=scraper.build(amazon_url,wanted_list)"
   ]
  },
  {
   "cell_type": "markdown",
   "id": "762d38b0",
   "metadata": {},
   "source": [
    "#### 4. Groupping our results obtained into groups of items required to be viewed"
   ]
  },
  {
   "cell_type": "code",
   "execution_count": 100,
   "id": "08b771dc",
   "metadata": {},
   "outputs": [],
   "source": [
    "data=scraper.get_result_similar(amazon_url,grouped=True)"
   ]
  },
  {
   "cell_type": "code",
   "execution_count": 101,
   "id": "07cfa00d",
   "metadata": {},
   "outputs": [
    {
     "data": {
      "text/plain": [
       "{'rule_ak32': ['MI REDMI 9i Sport (Coral Green, 64 GB) (4 GB RAM)',\n",
       "  'MI REDMI 9i Sport (Carbon Black, 64 GB) (4 GB RAM)',\n",
       "  'Redmi 9i Sport (Metallic Blue, 64 GB) (4 GB RAM)',\n",
       "  'Redmi Note 9 Pro (Interstellar Black, 4GB RAM, 64GB Storage)- Latest 8nm Snapdragon 720G & Alexa Hands-Free Capable',\n",
       "  'Redmi Note 8 (Space Black, 4GB RAM, 64GB Storage) | Snapdragon 665 Processor | 48 MP Quad Camera',\n",
       "  'Redmi 9 Prime (Mint Green, 4GB RAM, 64GB Storage)- Full HD+ Display & AI Quad Camera',\n",
       "  'Redmi Note 9 Pro (Interstellar Black, 4GB RAM, 128GB Storage) - Latest 8nm Snapdragon 720G & Alexa Hands-Free',\n",
       "  'Redmi Note 9 (Aqua Green, 4GB RAM 128GB Storage) - 48MP Quad Camera & Full HD+ Display',\n",
       "  'Redmi Note 9 (Pebble Grey, 4GB RAM 128GB Storage) - 48MP Quad Camera & Full HD+ Display',\n",
       "  'Redmi Note 9 (Shadow Black, 4GB RAM, 128GB Storage)',\n",
       "  'Redmi K20 Pro (Pearl White, 6GB RAM, 128GB Storage)',\n",
       "  'Redmi K20 Pro (Carbon Black, 8GB RAM, 256GB Storage)',\n",
       "  'Redmi K20 Pro (Flame Red, 8GB RAM, 256GB Storage)',\n",
       "  'Redmi Note 9 (Arctic White, 4GB RAM 128GB Storage) - 48MP Quad Camera & Full HD+ Display',\n",
       "  'Redmi Note 7 Pro (Nebula Red, 64GB, 6GB RAM)',\n",
       "  'Amazon\\'s Choicefor \"redmi\"',\n",
       "  'Redmi 9A Sport (Coral Green, 2GB RAM, 32GB Storage) | 2GHz Octa-core Helio G25 Processor | 5000 mAh Battery'],\n",
       " 'rule_tqll': ['MI REDMI 9i Sport (Coral Green, 64 GB) (4 GB RAM)',\n",
       "  'MI REDMI 9i Sport (Carbon Black, 64 GB) (4 GB RAM)',\n",
       "  'Redmi 9i Sport (Metallic Blue, 64 GB) (4 GB RAM)',\n",
       "  'Redmi Note 9 Pro (Interstellar Black, 4GB RAM, 64GB Storage)- Latest 8nm Snapdragon 720G & Alexa Hands-Free Capable',\n",
       "  'Redmi Note 8 (Space Black, 4GB RAM, 64GB Storage) | Snapdragon 665 Processor | 48 MP Quad Camera',\n",
       "  'Redmi 9 Prime (Mint Green, 4GB RAM, 64GB Storage)- Full HD+ Display & AI Quad Camera',\n",
       "  'Redmi Note 9 Pro (Interstellar Black, 4GB RAM, 128GB Storage) - Latest 8nm Snapdragon 720G & Alexa Hands-Free',\n",
       "  'Redmi Note 9 (Aqua Green, 4GB RAM 128GB Storage) - 48MP Quad Camera & Full HD+ Display',\n",
       "  'Redmi Note 9 (Pebble Grey, 4GB RAM 128GB Storage) - 48MP Quad Camera & Full HD+ Display',\n",
       "  'Redmi Note 9 (Shadow Black, 4GB RAM, 128GB Storage)',\n",
       "  'Redmi K20 Pro (Pearl White, 6GB RAM, 128GB Storage)',\n",
       "  'Redmi K20 Pro (Carbon Black, 8GB RAM, 256GB Storage)',\n",
       "  'Redmi K20 Pro (Flame Red, 8GB RAM, 256GB Storage)',\n",
       "  'Redmi Note 9 (Arctic White, 4GB RAM 128GB Storage) - 48MP Quad Camera & Full HD+ Display',\n",
       "  'Redmi Note 7 Pro (Nebula Red, 64GB, 6GB RAM)',\n",
       "  'Redmi 9A Sport (Coral Green, 2GB RAM, 32GB Storage) | 2GHz Octa-core Helio G25 Processor | 5000 mAh Battery'],\n",
       " 'rule_k6dz': ['15,499',\n",
       "  '11,999',\n",
       "  '10,499',\n",
       "  '15,999',\n",
       "  '16,499',\n",
       "  '16,499',\n",
       "  '16,499',\n",
       "  '25,950',\n",
       "  '29,990',\n",
       "  '29,990',\n",
       "  '16,499',\n",
       "  '14,990',\n",
       "  '6,999'],\n",
       " 'rule_ia2y': ['118',\n",
       "  '525',\n",
       "  '311',\n",
       "  '127,207',\n",
       "  '165,149',\n",
       "  '92,062',\n",
       "  '127,207',\n",
       "  '82,748',\n",
       "  '82,748',\n",
       "  '82,748',\n",
       "  '6,499',\n",
       "  '6,499',\n",
       "  '6,499',\n",
       "  '1,607',\n",
       "  '205',\n",
       "  '177,216'],\n",
       " 'rule_dxnu': ['118',\n",
       "  '525',\n",
       "  '311',\n",
       "  '127,207',\n",
       "  '165,149',\n",
       "  '92,062',\n",
       "  '127,207',\n",
       "  '82,748',\n",
       "  '82,748',\n",
       "  '82,748',\n",
       "  '6,499',\n",
       "  '6,499',\n",
       "  '6,499',\n",
       "  '1,607',\n",
       "  '205',\n",
       "  '177,216']}"
      ]
     },
     "execution_count": 101,
     "metadata": {},
     "output_type": "execute_result"
    }
   ],
   "source": [
    "data"
   ]
  },
  {
   "cell_type": "markdown",
   "id": "b2b70d47",
   "metadata": {},
   "source": [
    "#### 5. Extracting the group rules as elements of a list"
   ]
  },
  {
   "cell_type": "code",
   "execution_count": 102,
   "id": "4cf88993",
   "metadata": {},
   "outputs": [
    {
     "name": "stdout",
     "output_type": "stream",
     "text": [
      "['rule_ak32', 'rule_tqll', 'rule_k6dz', 'rule_ia2y', 'rule_dxnu']\n"
     ]
    }
   ],
   "source": [
    "keys=list(data.keys())\n",
    "print(keys)"
   ]
  },
  {
   "cell_type": "markdown",
   "id": "e8503974",
   "metadata": {},
   "source": [
    "#### 6. Setting the rules for each item to be displayed using the method: set_rule_aliases() and saving the grouping rules"
   ]
  },
  {
   "cell_type": "code",
   "execution_count": 103,
   "id": "e0f7badc",
   "metadata": {},
   "outputs": [],
   "source": [
    "scraper.set_rule_aliases({str(keys[0]):'title',str(keys[2]):'price',str(keys[3]):'reviews'})\n",
    "scraper.save('amazon_in_search')"
   ]
  },
  {
   "cell_type": "code",
   "execution_count": 104,
   "id": "85721f9c",
   "metadata": {},
   "outputs": [],
   "source": [
    "amazon_scraper = AutoScraper()\n",
    "amazon_scraper.load('amazon_in_search')"
   ]
  },
  {
   "cell_type": "markdown",
   "id": "b774b454",
   "metadata": {},
   "source": [
    "#### 7. Searching any item based on the previous grouped results"
   ]
  },
  {
   "cell_type": "code",
   "execution_count": 133,
   "id": "ae8e78bd",
   "metadata": {},
   "outputs": [
    {
     "name": "stdout",
     "output_type": "stream",
     "text": [
      "enter the item to be searched:laptop\n"
     ]
    }
   ],
   "source": [
    "search=input(\"enter the item to be searched:\")\n",
    "amazon_url=\"https://www.amazon.in/s?k={}&s=review-rank\".format(search)"
   ]
  },
  {
   "cell_type": "code",
   "execution_count": 134,
   "id": "f9ee65ea",
   "metadata": {},
   "outputs": [],
   "source": [
    "data=amazon_scraper.get_result_similar(amazon_url,group_by_alias=True)"
   ]
  },
  {
   "cell_type": "code",
   "execution_count": 135,
   "id": "8aa7d8e2",
   "metadata": {},
   "outputs": [
    {
     "data": {
      "text/plain": [
       "{'title': ['HP Pavilion Gaming 15.6-Inch Micro-EDGE Laptop, Intel Core i5-9300H Processor, NVIDIA GeForce GTX 1650 (4 GB), 8 GB SDRAM, 256 GB SSD, Windows 10 Home (15-dk0020nr, Shadow Black/Acid Green)',\n",
       "  'Newest HP Business Laptop, 15.6\" HD Touchscreen, 11th Gen Intel Core i3-1115G4 Processor, 12GB DDR4 RAM, 512GB SSD, HDMI, Wireless-AC Wi-Fi 5, Bluetooth 4.2, Silver, Windows 10 Pro, 32GB Tela USB Card',\n",
       "  'Newest HP Business Laptop, 15.6\" HD Touchscreen, 11th Gen Intel Core i3-1115G4 Processor, 12GB DDR4 RAM, 128GB SSD, HDMI, Wireless-AC Wi-Fi 5, Bluetooth 4.2, Silver, Windows 10 Pro, 32GB Tela USB Card',\n",
       "  'Acer Chromebook Spin 311 Intel Celeron N4020 11.6 inches HD Touch Convertible Business Laptop (4GB LPDDR4, 32GB eMMC, Gigabit Wi-Fi 5, Bluetooth 5.0, Google Chrome OS, 0.000283 kg, CP311-2H-C679)',\n",
       "  'Acer Chromebook Spin 11 CP311-1H-C5PN Intel Celeron N3350 11.6 inches HD Touch Convertible Gaming Laptop (4GB DDR4, 32GB eMMC, Google Chrome OS, 1.25191392 kg)',\n",
       "  'Lenovo Legion 5 15 Gaming Laptop, 15.6 inches FHD (1920 x 1080) Display, AMD Ryzen 7 5800H Processor, 16GB DDR4 RAM, 512GB NVMe SSD, NVIDIA GeForce RTX 3050Ti, Windows 10H, 82JW0012US, Phantom Blue, 2.3805Kg',\n",
       "  'ASUS VivoBook 15 Thin & Light Laptop, 15.6â€\\x9d FHD Display, AMD Quad Core R7-3700U CPU, 8GB DDR4 RAM, 512GB PCIe SSD, AMD Radeon Vega 10 Graphics, Fingerprint, Windows 10 Home, Slate Gray, F512DA-NH77',\n",
       "  'Lenovo IdeaPad 3 14 Laptop, AMD Ryzen 5 5500U, 8GB RAM, 256GB Storage, 14.0\" FHD Display, AMD Radeon 7 Graphics, Windows 10 Home, Abyss Blue',\n",
       "  'Microsoft Surface Go Intel Core i5 12.4 inches Business, Gaming Laptop (Touchscreen, 2880x1920, 8GB Memory, Windows 10 S, 256GB SSD, Platinum, 1.11 kg)',\n",
       "  'ASUS TUF Gaming F17 Gaming Laptop, 144Hz 17.3” FHD IPS-Type Display, Intel Core i5-10300H, GeForce GTX 1650 Ti, 8GB DDR4, 512GB PCIe SSD, RGB Keyboard, Windows 10, Bonfire Black, FX706LI-ES53',\n",
       "  'Lenovo Legion 5 Pro 16\" 165Hz QHD IPS NVIDIA G-Sync 500 nits Gaming Laptop AMD Ryzen 7-5800H 16GB RAM 1TB SSD RTX 3070 8GB GDDR6 TGP 130W',\n",
       "  'Lenovo Legion 5 AMD Ryzen 5 4600H 15.6\" (39.62 cm) FHD IPS Gaming Laptop (8GB/1TB HDD + 256GB SSD/4GB NVIDIA GTX 1650/120Hz Refresh/Windows 10/Backlit Keyboard/Phantom Black/2.3Kg), 82B500MMIN',\n",
       "  'ASUS ROG G531GT-BI7N6 15.6\" FHD Gaming Laptop Computer, Intel Hexa-Core i7-9750H Up to 4.5GHz, 8GB DDR4, 512GB SSD, NVIDIA GeForce GTX 1650, 802.11ac WiFi, HDMI, USB 3.0, Windows 10',\n",
       "  'HP Spectre x360 GEM Cut 13.3\" FHD Touch Laptop, Intel i7-1065G7, 16GB RAM, 512GB SSD, Bang & Olufsen, Fingerprint Reader, HP Stylus, Nightfall Black, Win 10 Pro, 64GB TechWarehouse Flash Drive',\n",
       "  '2020 Apple MacBook Air Laptop: Apple M1 chip, 13.3-inch/33.74 cm Retina Display, 8GB RAM, 512GB SSD Storage, Backlit Keyboard, FaceTime HD Camera, Touch ID. Works with iPhone/iPad; Gold',\n",
       "  'Lenovo Legion 5 AMD Ryzen 7 5800H 15.6\" (39.62cm) FHD IPS Gaming Laptop (16GB/2TB SSD/6GB NVIDIA RTX 3060/165Hz/Windows 11/Office 2021/RGB Backlit/3months Game Pass/Phantom Blue/2.4Kg), 82JU010NIN'],\n",
       " '': ['HP Pavilion Gaming 15.6-Inch Micro-EDGE Laptop, Intel Core i5-9300H Processor, NVIDIA GeForce GTX 1650 (4 GB), 8 GB SDRAM,...',\n",
       "  '887',\n",
       "  'Newest HP Business Laptop, 15.6',\n",
       "  '65',\n",
       "  'Newest HP Business Laptop, 15.6',\n",
       "  '65',\n",
       "  'Acer Chromebook Spin 311 Intel Celeron N4020 11.6 inches HD Touch Convertible Business Laptop (4GB LPDDR4, 32GB eMMC, Giga...',\n",
       "  '9,700',\n",
       "  'Acer Chromebook Spin 11 CP311-1H-C5PN Intel Celeron N3350 11.6 inches HD Touch Convertible Gaming Laptop (4GB DDR4, 32GB e...',\n",
       "  '1,431',\n",
       "  'Lenovo Legion 5 15 Gaming Laptop, 15.6 inches FHD (1920 x 1080) Display, AMD Ryzen 7 5800H Processor, 16GB DDR4 RAM, 512GB...',\n",
       "  '1,155',\n",
       "  'ASUS VivoBook 15 Thin & Light Laptop, 15.6â€\\x9d FHD Display, AMD Quad Core R7-3700U CPU, 8GB DDR4 RAM, 512GB PCIe SSD, AMD R...',\n",
       "  '1,179',\n",
       "  'Lenovo IdeaPad 3 14 Laptop, AMD Ryzen 5 5500U, 8GB RAM, 256GB Storage, 14.0',\n",
       "  '592',\n",
       "  'Microsoft Surface Go Intel Core i5 12.4 inches Business, Gaming Laptop (Touchscreen, 2880x1920, 8GB Memory, Windows 10 S, ...',\n",
       "  '588',\n",
       "  'ASUS TUF Gaming F17 Gaming Laptop, 144Hz 17.3” FHD IPS-Type Display, Intel Core i5-10300H, GeForce GTX 1650 Ti, 8GB DDR4, ...',\n",
       "  '576',\n",
       "  'Lenovo Legion 5 Pro 16',\n",
       "  '53',\n",
       "  'Lenovo Legion 5 AMD Ryzen 5 4600H 15.6',\n",
       "  '288',\n",
       "  'ASUS ROG G531GT-BI7N6 15.6',\n",
       "  '265',\n",
       "  'HP Spectre x360 GEM Cut 13.3',\n",
       "  '249',\n",
       "  '2020 Apple MacBook Air Laptop: Apple M1 chip, 13.3-inch/33.74 cm Retina Display, 8GB RAM, 512GB SSD Storage, Backlit Keybo...',\n",
       "  '176',\n",
       "  'Lenovo Legion 5 AMD Ryzen 7 5800H 15.6',\n",
       "  '160'],\n",
       " 'price': ['1,10,993',\n",
       "  '88,899',\n",
       "  '76,596',\n",
       "  '40,293',\n",
       "  '37,632',\n",
       "  '1,04,584',\n",
       "  '44,990',\n",
       "  '84,000',\n",
       "  '59,390',\n",
       "  '1,55,609',\n",
       "  '1,17,900',\n",
       "  '1,37,000'],\n",
       " 'reviews': ['887',\n",
       "  '65',\n",
       "  '65',\n",
       "  '9,700',\n",
       "  '1,431',\n",
       "  '1,155',\n",
       "  '1,179',\n",
       "  '592',\n",
       "  '588',\n",
       "  '576',\n",
       "  '53',\n",
       "  '288',\n",
       "  '265',\n",
       "  '249',\n",
       "  '176',\n",
       "  '160']}"
      ]
     },
     "execution_count": 135,
     "metadata": {},
     "output_type": "execute_result"
    }
   ],
   "source": [
    "data"
   ]
  },
  {
   "cell_type": "markdown",
   "id": "10ca8449",
   "metadata": {},
   "source": [
    "#### 8. Combining different item details together as tuples using the zip( ) method"
   ]
  },
  {
   "cell_type": "code",
   "execution_count": 136,
   "id": "1da6045a",
   "metadata": {},
   "outputs": [],
   "source": [
    "search_data=tuple(zip(data['title'],data['price'],data['reviews']))"
   ]
  },
  {
   "cell_type": "code",
   "execution_count": 137,
   "id": "5506271c",
   "metadata": {},
   "outputs": [
    {
     "data": {
      "text/plain": [
       "(('HP Pavilion Gaming 15.6-Inch Micro-EDGE Laptop, Intel Core i5-9300H Processor, NVIDIA GeForce GTX 1650 (4 GB), 8 GB SDRAM, 256 GB SSD, Windows 10 Home (15-dk0020nr, Shadow Black/Acid Green)',\n",
       "  '1,10,993',\n",
       "  '887'),\n",
       " ('Newest HP Business Laptop, 15.6\" HD Touchscreen, 11th Gen Intel Core i3-1115G4 Processor, 12GB DDR4 RAM, 512GB SSD, HDMI, Wireless-AC Wi-Fi 5, Bluetooth 4.2, Silver, Windows 10 Pro, 32GB Tela USB Card',\n",
       "  '88,899',\n",
       "  '65'),\n",
       " ('Newest HP Business Laptop, 15.6\" HD Touchscreen, 11th Gen Intel Core i3-1115G4 Processor, 12GB DDR4 RAM, 128GB SSD, HDMI, Wireless-AC Wi-Fi 5, Bluetooth 4.2, Silver, Windows 10 Pro, 32GB Tela USB Card',\n",
       "  '76,596',\n",
       "  '65'),\n",
       " ('Acer Chromebook Spin 311 Intel Celeron N4020 11.6 inches HD Touch Convertible Business Laptop (4GB LPDDR4, 32GB eMMC, Gigabit Wi-Fi 5, Bluetooth 5.0, Google Chrome OS, 0.000283 kg, CP311-2H-C679)',\n",
       "  '40,293',\n",
       "  '9,700'),\n",
       " ('Acer Chromebook Spin 11 CP311-1H-C5PN Intel Celeron N3350 11.6 inches HD Touch Convertible Gaming Laptop (4GB DDR4, 32GB eMMC, Google Chrome OS, 1.25191392 kg)',\n",
       "  '37,632',\n",
       "  '1,431'),\n",
       " ('Lenovo Legion 5 15 Gaming Laptop, 15.6 inches FHD (1920 x 1080) Display, AMD Ryzen 7 5800H Processor, 16GB DDR4 RAM, 512GB NVMe SSD, NVIDIA GeForce RTX 3050Ti, Windows 10H, 82JW0012US, Phantom Blue, 2.3805Kg',\n",
       "  '1,04,584',\n",
       "  '1,155'),\n",
       " ('ASUS VivoBook 15 Thin & Light Laptop, 15.6â€\\x9d FHD Display, AMD Quad Core R7-3700U CPU, 8GB DDR4 RAM, 512GB PCIe SSD, AMD Radeon Vega 10 Graphics, Fingerprint, Windows 10 Home, Slate Gray, F512DA-NH77',\n",
       "  '44,990',\n",
       "  '1,179'),\n",
       " ('Lenovo IdeaPad 3 14 Laptop, AMD Ryzen 5 5500U, 8GB RAM, 256GB Storage, 14.0\" FHD Display, AMD Radeon 7 Graphics, Windows 10 Home, Abyss Blue',\n",
       "  '84,000',\n",
       "  '592'),\n",
       " ('Microsoft Surface Go Intel Core i5 12.4 inches Business, Gaming Laptop (Touchscreen, 2880x1920, 8GB Memory, Windows 10 S, 256GB SSD, Platinum, 1.11 kg)',\n",
       "  '59,390',\n",
       "  '588'),\n",
       " ('ASUS TUF Gaming F17 Gaming Laptop, 144Hz 17.3” FHD IPS-Type Display, Intel Core i5-10300H, GeForce GTX 1650 Ti, 8GB DDR4, 512GB PCIe SSD, RGB Keyboard, Windows 10, Bonfire Black, FX706LI-ES53',\n",
       "  '1,55,609',\n",
       "  '576'),\n",
       " ('Lenovo Legion 5 Pro 16\" 165Hz QHD IPS NVIDIA G-Sync 500 nits Gaming Laptop AMD Ryzen 7-5800H 16GB RAM 1TB SSD RTX 3070 8GB GDDR6 TGP 130W',\n",
       "  '1,17,900',\n",
       "  '53'),\n",
       " ('Lenovo Legion 5 AMD Ryzen 5 4600H 15.6\" (39.62 cm) FHD IPS Gaming Laptop (8GB/1TB HDD + 256GB SSD/4GB NVIDIA GTX 1650/120Hz Refresh/Windows 10/Backlit Keyboard/Phantom Black/2.3Kg), 82B500MMIN',\n",
       "  '1,37,000',\n",
       "  '288'))"
      ]
     },
     "execution_count": 137,
     "metadata": {},
     "output_type": "execute_result"
    }
   ],
   "source": [
    "search_data"
   ]
  },
  {
   "cell_type": "markdown",
   "id": "9f66d0f0",
   "metadata": {},
   "source": [
    "#### 9. Displaying all the product details together according to the query, title, price, reviews in the form of dataframe by using pandas"
   ]
  },
  {
   "cell_type": "code",
   "execution_count": 138,
   "id": "bbc8f396",
   "metadata": {},
   "outputs": [],
   "source": [
    "df = pd.DataFrame(columns=['Query','Title','Price','Reviews'])\n",
    "for i in range(len(search_data)):\n",
    "    df.loc[len(df)] = [search,search_data[i][0],search_data[i][1],search_data[i][2]]"
   ]
  },
  {
   "cell_type": "code",
   "execution_count": 139,
   "id": "e5bb94ed",
   "metadata": {},
   "outputs": [
    {
     "data": {
      "text/html": [
       "<div>\n",
       "<style scoped>\n",
       "    .dataframe tbody tr th:only-of-type {\n",
       "        vertical-align: middle;\n",
       "    }\n",
       "\n",
       "    .dataframe tbody tr th {\n",
       "        vertical-align: top;\n",
       "    }\n",
       "\n",
       "    .dataframe thead th {\n",
       "        text-align: right;\n",
       "    }\n",
       "</style>\n",
       "<table border=\"1\" class=\"dataframe\">\n",
       "  <thead>\n",
       "    <tr style=\"text-align: right;\">\n",
       "      <th></th>\n",
       "      <th>Query</th>\n",
       "      <th>Title</th>\n",
       "      <th>Price</th>\n",
       "      <th>Reviews</th>\n",
       "    </tr>\n",
       "  </thead>\n",
       "  <tbody>\n",
       "    <tr>\n",
       "      <th>0</th>\n",
       "      <td>laptop</td>\n",
       "      <td>HP Pavilion Gaming 15.6-Inch Micro-EDGE Laptop...</td>\n",
       "      <td>1,10,993</td>\n",
       "      <td>887</td>\n",
       "    </tr>\n",
       "    <tr>\n",
       "      <th>1</th>\n",
       "      <td>laptop</td>\n",
       "      <td>Newest HP Business Laptop, 15.6\" HD Touchscree...</td>\n",
       "      <td>88,899</td>\n",
       "      <td>65</td>\n",
       "    </tr>\n",
       "    <tr>\n",
       "      <th>2</th>\n",
       "      <td>laptop</td>\n",
       "      <td>Newest HP Business Laptop, 15.6\" HD Touchscree...</td>\n",
       "      <td>76,596</td>\n",
       "      <td>65</td>\n",
       "    </tr>\n",
       "    <tr>\n",
       "      <th>3</th>\n",
       "      <td>laptop</td>\n",
       "      <td>Acer Chromebook Spin 311 Intel Celeron N4020 1...</td>\n",
       "      <td>40,293</td>\n",
       "      <td>9,700</td>\n",
       "    </tr>\n",
       "    <tr>\n",
       "      <th>4</th>\n",
       "      <td>laptop</td>\n",
       "      <td>Acer Chromebook Spin 11 CP311-1H-C5PN Intel Ce...</td>\n",
       "      <td>37,632</td>\n",
       "      <td>1,431</td>\n",
       "    </tr>\n",
       "    <tr>\n",
       "      <th>5</th>\n",
       "      <td>laptop</td>\n",
       "      <td>Lenovo Legion 5 15 Gaming Laptop, 15.6 inches ...</td>\n",
       "      <td>1,04,584</td>\n",
       "      <td>1,155</td>\n",
       "    </tr>\n",
       "    <tr>\n",
       "      <th>6</th>\n",
       "      <td>laptop</td>\n",
       "      <td>ASUS VivoBook 15 Thin &amp; Light Laptop, 15.6â€...</td>\n",
       "      <td>44,990</td>\n",
       "      <td>1,179</td>\n",
       "    </tr>\n",
       "    <tr>\n",
       "      <th>7</th>\n",
       "      <td>laptop</td>\n",
       "      <td>Lenovo IdeaPad 3 14 Laptop, AMD Ryzen 5 5500U,...</td>\n",
       "      <td>84,000</td>\n",
       "      <td>592</td>\n",
       "    </tr>\n",
       "    <tr>\n",
       "      <th>8</th>\n",
       "      <td>laptop</td>\n",
       "      <td>Microsoft Surface Go Intel Core i5 12.4 inches...</td>\n",
       "      <td>59,390</td>\n",
       "      <td>588</td>\n",
       "    </tr>\n",
       "    <tr>\n",
       "      <th>9</th>\n",
       "      <td>laptop</td>\n",
       "      <td>ASUS TUF Gaming F17 Gaming Laptop, 144Hz 17.3”...</td>\n",
       "      <td>1,55,609</td>\n",
       "      <td>576</td>\n",
       "    </tr>\n",
       "    <tr>\n",
       "      <th>10</th>\n",
       "      <td>laptop</td>\n",
       "      <td>Lenovo Legion 5 Pro 16\" 165Hz QHD IPS NVIDIA G...</td>\n",
       "      <td>1,17,900</td>\n",
       "      <td>53</td>\n",
       "    </tr>\n",
       "    <tr>\n",
       "      <th>11</th>\n",
       "      <td>laptop</td>\n",
       "      <td>Lenovo Legion 5 AMD Ryzen 5 4600H 15.6\" (39.62...</td>\n",
       "      <td>1,37,000</td>\n",
       "      <td>288</td>\n",
       "    </tr>\n",
       "  </tbody>\n",
       "</table>\n",
       "</div>"
      ],
      "text/plain": [
       "     Query                                              Title     Price  \\\n",
       "0   laptop  HP Pavilion Gaming 15.6-Inch Micro-EDGE Laptop...  1,10,993   \n",
       "1   laptop  Newest HP Business Laptop, 15.6\" HD Touchscree...    88,899   \n",
       "2   laptop  Newest HP Business Laptop, 15.6\" HD Touchscree...    76,596   \n",
       "3   laptop  Acer Chromebook Spin 311 Intel Celeron N4020 1...    40,293   \n",
       "4   laptop  Acer Chromebook Spin 11 CP311-1H-C5PN Intel Ce...    37,632   \n",
       "5   laptop  Lenovo Legion 5 15 Gaming Laptop, 15.6 inches ...  1,04,584   \n",
       "6   laptop  ASUS VivoBook 15 Thin & Light Laptop, 15.6â€...    44,990   \n",
       "7   laptop  Lenovo IdeaPad 3 14 Laptop, AMD Ryzen 5 5500U,...    84,000   \n",
       "8   laptop  Microsoft Surface Go Intel Core i5 12.4 inches...    59,390   \n",
       "9   laptop  ASUS TUF Gaming F17 Gaming Laptop, 144Hz 17.3”...  1,55,609   \n",
       "10  laptop  Lenovo Legion 5 Pro 16\" 165Hz QHD IPS NVIDIA G...  1,17,900   \n",
       "11  laptop  Lenovo Legion 5 AMD Ryzen 5 4600H 15.6\" (39.62...  1,37,000   \n",
       "\n",
       "   Reviews  \n",
       "0      887  \n",
       "1       65  \n",
       "2       65  \n",
       "3    9,700  \n",
       "4    1,431  \n",
       "5    1,155  \n",
       "6    1,179  \n",
       "7      592  \n",
       "8      588  \n",
       "9      576  \n",
       "10      53  \n",
       "11     288  "
      ]
     },
     "execution_count": 139,
     "metadata": {},
     "output_type": "execute_result"
    }
   ],
   "source": [
    "df.head(30)"
   ]
  },
  {
   "cell_type": "code",
   "execution_count": null,
   "id": "ab6d4c50",
   "metadata": {},
   "outputs": [],
   "source": []
  }
 ],
 "metadata": {
  "kernelspec": {
   "display_name": "Python 3 (ipykernel)",
   "language": "python",
   "name": "python3"
  },
  "language_info": {
   "codemirror_mode": {
    "name": "ipython",
    "version": 3
   },
   "file_extension": ".py",
   "mimetype": "text/x-python",
   "name": "python",
   "nbconvert_exporter": "python",
   "pygments_lexer": "ipython3",
   "version": "3.9.7"
  }
 },
 "nbformat": 4,
 "nbformat_minor": 5
}
